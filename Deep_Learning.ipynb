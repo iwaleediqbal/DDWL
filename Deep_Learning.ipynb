{
  "cells": [
    {
      "cell_type": "code",
      "source": [
        "!pip install -q condacolab\n",
        "import condacolab\n",
        "condacolab.install()"
      ],
      "metadata": {
        "id": "O-kQWNk-xQZi"
      },
      "execution_count": null,
      "outputs": []
    },
    {
      "cell_type": "code",
      "source": [
        "!conda install -c conda-forge mamba -y\n",
        "!mamba install -q -y -c conda-forge pandas matplotlib seaborn rdkit"
      ],
      "metadata": {
        "id": "gGn5nBuExRaV"
      },
      "execution_count": null,
      "outputs": []
    },
    {
      "cell_type": "code",
      "source": [
        "!pip install --upgrade keras\n",
        "!pip install --upgrade scikit_learn"
      ],
      "metadata": {
        "id": "SFE71mkGyEqP"
      },
      "execution_count": null,
      "outputs": []
    },
    {
      "cell_type": "code",
      "execution_count": null,
      "metadata": {
        "id": "JQheMQryts23"
      },
      "outputs": [],
      "source": [
        "from pathlib import Path\n",
        "from warnings import filterwarnings\n",
        "\n",
        "filterwarnings(\"ignore\")\n",
        "\n",
        "import pandas as pd\n",
        "import numpy as np\n",
        "from rdkit import Chem\n",
        "from rdkit.Chem import MACCSkeys, Draw, rdFingerprintGenerator\n",
        "from sklearn.model_selection import train_test_split\n",
        "import matplotlib.pyplot as plt\n",
        "from sklearn import metrics\n",
        "import seaborn as sns\n",
        "from tensorflow.keras.models import Sequential, load_model\n",
        "from tensorflow.keras.layers import Dense\n",
        "from tensorflow.keras.callbacks import ModelCheckpoint\n",
        "\n",
        "%matplotlib inline"
      ]
    },
    {
      "cell_type": "code",
      "source": [
        "df = pd.read_csv(\"/content/final_cleaned_file_from_substructures.csv\")\n",
        "df = df.drop([\"IC50\", \"units\", \"class\", \"molecular_weight\", \"logp\", \"n_hbd\", \"n_hba\", \"ROMol\"], axis=1)\n",
        "df\n"
      ],
      "metadata": {
        "id": "PMd8Qh4jFK2z"
      },
      "execution_count": null,
      "outputs": []
    },
    {
      "cell_type": "code",
      "execution_count": null,
      "metadata": {
        "tags": [],
        "id": "11fHTS7Sts25"
      },
      "outputs": [],
      "source": [
        "chembl_df = df[[\"smiles\", \"pIC50\"]]\n",
        "chembl_df"
      ]
    },
    {
      "cell_type": "code",
      "execution_count": null,
      "metadata": {
        "tags": [],
        "id": "b1_4rqZ8ts26"
      },
      "outputs": [],
      "source": [
        "def smiles_to_fp(smiles, method=\"maccs\", n_bits=2048):\n",
        "    mol = Chem.MolFromSmiles(smiles)\n",
        "    if method == \"maccs\":\n",
        "        return np.array(MACCSkeys.GenMACCSKeys(mol))\n",
        "    if method == \"morgan2\":\n",
        "        fpg = rdFingerprintGenerator.GetMorganGenerator(radius=2, fpSize=n_bits)\n",
        "        return np.array(fpg.GetCountFingerprint(mol))\n",
        "    if method == \"morgan3\":\n",
        "        fpg = rdFingerprintGenerator.GetMorganGenerator(radius=3, fpSize=n_bits)\n",
        "        return np.array(fpg.GetCountFingerprint(mol))\n",
        "    else:\n",
        "        print(f\"Warning: Wrong method specified: {method}.\" \" Default will be used instead.\")\n",
        "        return np.array(MACCSkeys.GenMACCSKeys(mol))"
      ]
    },
    {
      "cell_type": "code",
      "execution_count": null,
      "metadata": {
        "tags": [],
        "id": "M242y_W7ts27"
      },
      "outputs": [],
      "source": [
        "chembl_df[\"fingerprints_df\"] = chembl_df[\"smiles\"].apply(smiles_to_fp)\n",
        "\n",
        "print(\"Shape of dataframe:\", chembl_df.shape)\n",
        "chembl_df"
      ]
    },
    {
      "cell_type": "code",
      "source": [
        "chembl_df.to_csv('/content/sample_data/MACCS_fingerprints_from_bioactive_data.csv', index=False)"
      ],
      "metadata": {
        "id": "e4RN0KzduPsP"
      },
      "execution_count": null,
      "outputs": []
    },
    {
      "cell_type": "code",
      "execution_count": null,
      "metadata": {
        "tags": [],
        "id": "lQ6p8Fcpts2_"
      },
      "outputs": [],
      "source": [
        "x_train, x_test, y_train, y_test = train_test_split(\n",
        "    chembl_df[\"fingerprints_df\"], chembl_df[[\"pIC50\"]], test_size=0.3, random_state=42\n",
        ")\n",
        "print(\"Shape of training data:\", x_train.shape)\n",
        "print(\"Shape of test data:\", x_test.shape)"
      ]
    },
    {
      "cell_type": "code",
      "execution_count": null,
      "metadata": {
        "tags": [],
        "id": "o16C64-Ats3A"
      },
      "outputs": [],
      "source": [
        "def neural_network_model(hidden1, hidden2):\n",
        "    model = Sequential()\n",
        "    model.add(Dense(hidden1, activation=\"relu\", name=\"layer1\"))\n",
        "    model.add(Dense(hidden2, activation=\"relu\", name=\"layer2\"))\n",
        "    model.add(Dense(1, activation=\"linear\", name=\"layer3\"))\n",
        "    model.compile(loss=\"mean_squared_error\", optimizer=\"adam\", metrics=[\"mse\", \"mae\"])\n",
        "    return model"
      ]
    },
    {
      "cell_type": "code",
      "execution_count": null,
      "metadata": {
        "tags": [],
        "id": "L28HvhoHts3A"
      },
      "outputs": [],
      "source": [
        "batch_sizes = [16, 32, 64]\n",
        "nb_epoch = 50\n",
        "layer1_size = 64\n",
        "layer2_size = 32"
      ]
    },
    {
      "cell_type": "code",
      "source": [
        "import matplotlib.pyplot as plt\n",
        "import seaborn as sns\n",
        "\n",
        "fig, axes = plt.subplots(1, len(batch_sizes), figsize=(12, 6))\n",
        "sns.set_style(\"white\")\n",
        "sns.set_palette(\"Set2\")\n",
        "\n",
        "for index, batch in enumerate(batch_sizes):\n",
        "    ax = axes[index] if len(batch_sizes) > 1 else axes\n",
        "    model = neural_network_model(layer1_size, layer2_size)\n",
        "\n",
        "    history = model.fit(\n",
        "        np.array(list((x_train))).astype(float),\n",
        "        y_train.values,\n",
        "        batch_size=batch,\n",
        "        validation_data=(np.array(list((x_test))).astype(float), y_test.values),\n",
        "        verbose=0,\n",
        "        epochs=nb_epoch,\n",
        "    )\n",
        "\n",
        "    ax.plot(history.history[\"loss\"], label=\"train\")\n",
        "    ax.plot(history.history[\"val_loss\"], label=\"test\")\n",
        "    ax.legend([\"train\", \"test\"], loc=\"upper right\")\n",
        "    ax.set_ylabel(\"Loss\")\n",
        "    ax.set_xlabel(\"Epoch\")\n",
        "    ax.set_ylim((0, 15))\n",
        "    ax.set_title(f\"Test Loss = {history.history['val_loss'][nb_epoch-1]:.2f}, Batch Size = {batch}\")\n",
        "    sns.despine(ax=ax)\n",
        "\n",
        "plt.tight_layout()\n",
        "plt.savefig(\"training_loss_plot.png\", dpi=600)\n",
        "plt.show()\n"
      ],
      "metadata": {
        "id": "T_Fd7mwFNdts"
      },
      "execution_count": null,
      "outputs": []
    },
    {
      "cell_type": "code",
      "execution_count": null,
      "metadata": {
        "tags": [],
        "id": "9zAwDmRNts3B"
      },
      "outputs": [],
      "source": [
        "from keras.callbacks import ModelCheckpoint\n",
        "import numpy as np\n",
        "\n",
        "filepath = \"/content/sample_data/best_weights.weights.h5\"\n",
        "checkpoint = ModelCheckpoint(\n",
        "    filepath,\n",
        "    monitor=\"loss\",\n",
        "    verbose=0,\n",
        "    save_best_only=True,\n",
        "    mode=\"min\",\n",
        "    save_weights_only=True,\n",
        ")\n",
        "callbacks_list = [checkpoint]\n",
        "model.fit(\n",
        "    np.array(list((x_train))).astype(float),\n",
        "    y_train.values,\n",
        "    epochs=nb_epoch,\n",
        "    batch_size=64,\n",
        "    callbacks=callbacks_list,\n",
        "    verbose=0,\n",
        ")"
      ]
    },
    {
      "cell_type": "code",
      "execution_count": null,
      "metadata": {
        "tags": [],
        "id": "RqUgrzdWts3B"
      },
      "outputs": [],
      "source": [
        "print(f\"Evaluate the model on the test data\")\n",
        "scores = model.evaluate(np.array(list((x_test))), y_test.values, verbose=0)\n",
        "print(f\" loss: {scores[0]:.2f}\")\n",
        "print(f\" mse (same as loss): {scores[1]:.2f}\")\n",
        "print(f\" mae: {scores[2]:.2f}\")"
      ]
    },
    {
      "cell_type": "code",
      "execution_count": null,
      "metadata": {
        "tags": [],
        "id": "n56fA38ats3C"
      },
      "outputs": [],
      "source": [
        "y_pred = model.predict(np.array(list((x_test))))\n",
        "first_5_prediction = [print(f\"{value[0]:.2f}\") for value in y_pred[0:5]]"
      ]
    },
    {
      "cell_type": "code",
      "source": [
        "import matplotlib.pyplot as plt\n",
        "import seaborn as sns\n",
        "import numpy as np\n",
        "\n",
        "limits = 0, 15\n",
        "fig, ax = plt.subplots(figsize=(10, 10))\n",
        "sns.set_style(\"white\")\n",
        "ax.scatter(y_pred, y_test, marker=\"o\", color=\"orange\", edgecolor=\"black\", alpha=0.7, s=100)\n",
        "lin = np.linspace(*limits, 100)\n",
        "ax.plot(lin, lin, color=\"red\", linestyle=\"--\", linewidth=2)\n",
        "ax.set_aspect(\"equal\", adjustable=\"box\")\n",
        "ax.set_xlabel(\"Predicted Values\", fontsize=14, weight='bold')\n",
        "ax.set_ylabel(\"True Values\", fontsize=14, weight='bold')\n",
        "ax.set_title(\"Scatter Plot: pIC50 Values\", fontsize=16, weight='bold')\n",
        "ax.set_xlim(limits)\n",
        "ax.set_ylim(limits)\n",
        "ax.grid(False)\n",
        "sns.despine(ax=ax)\n",
        "ax.set_facecolor('white')\n",
        "plt.savefig(\"pIC50_scatter_plot.png\", dpi=600, bbox_inches='tight')\n",
        "plt.show()\n"
      ],
      "metadata": {
        "id": "wpQyVlOxV8r0"
      },
      "execution_count": null,
      "outputs": []
    },
    {
      "cell_type": "code",
      "source": [
        "from keras.models import model_from_json\n",
        "\n",
        "model_json = model.to_json()\n",
        "with open(\"model.json\", \"w\") as json_file:\n",
        "    json_file.write(model_json)\n",
        "model.save_weights(\"model.weights.h5\")\n",
        "print(\"Saved model to disk\")"
      ],
      "metadata": {
        "id": "FXyfHldpevR0"
      },
      "execution_count": null,
      "outputs": []
    },
    {
      "cell_type": "code",
      "execution_count": null,
      "metadata": {
        "tags": [],
        "id": "UPVTkbuots3D"
      },
      "outputs": [],
      "source": [
        "external_data = pd.read_csv(\"/content/molecules.csv\")\n",
        "external_data = external_data.reset_index(drop=True)\n",
        "external_data.head()"
      ]
    },
    {
      "cell_type": "code",
      "execution_count": null,
      "metadata": {
        "tags": [],
        "id": "vaUSoa8gts3E"
      },
      "outputs": [],
      "source": [
        "external_data[\"fingerprints_df\"] = external_data[\"canonical_smiles\"].apply(smiles_to_fp)\n",
        "print(\"Shape of dataframe : \", external_data.shape)\n",
        "external_data.head(3)"
      ]
    },
    {
      "cell_type": "code",
      "source": [
        "chembl_df.to_csv('/content/sample_data/MACCS_fingerprints_from_drug_library.csv', index=False)"
      ],
      "metadata": {
        "id": "uLfHKiUuxbAH"
      },
      "execution_count": null,
      "outputs": []
    },
    {
      "cell_type": "code",
      "source": [
        "json_file = open(\"model.json\", \"r\")\n",
        "loaded_model_json = json_file.read()\n",
        "json_file.close()\n",
        "loaded_model = model_from_json(loaded_model_json)\n",
        "loaded_model.load_weights(\"model.weights.h5\")\n",
        "print(\"Loaded model from disk\")"
      ],
      "metadata": {
        "id": "R4fH8WWCfwsI"
      },
      "execution_count": null,
      "outputs": []
    },
    {
      "cell_type": "code",
      "execution_count": null,
      "metadata": {
        "tags": [],
        "id": "4aZGXC9xts3E"
      },
      "outputs": [],
      "source": [
        "predictions = model.predict(\n",
        "    np.array(list((external_data[\"fingerprints_df\"]))).astype(float), callbacks=callbacks_list\n",
        ")\n",
        "\n",
        "predicted_pIC50 = pd.DataFrame(predictions, columns=[\"predicted_pIC50\"])\n",
        "predicted_pIC50_df = external_data.join(predicted_pIC50)\n",
        "\n",
        "predicted_pIC50_df"
      ]
    },
    {
      "cell_type": "code",
      "execution_count": null,
      "metadata": {
        "tags": [],
        "id": "DI3cel9vts3F"
      },
      "outputs": [],
      "source": [
        "predicted_pIC50_df.to_csv(\"/content/sample_data/predicted_pIC50_df.csv\")"
      ]
    },
    {
      "cell_type": "code",
      "execution_count": null,
      "metadata": {
        "tags": [],
        "id": "Cad81506ts3F"
      },
      "outputs": [],
      "source": [
        "predicted_pIC50_df = pd.read_csv(\"/content/sample_data/predicted_pIC50_df.csv\", index_col=0)\n",
        "top3_drug = predicted_pIC50_df.nlargest(3, \"predicted_pIC50\")\n",
        "top3_drug"
      ]
    },
    {
      "cell_type": "code",
      "execution_count": null,
      "metadata": {
        "tags": [],
        "id": "DpSVhxRSts3F"
      },
      "outputs": [],
      "source": [
        "highest_pIC50 = predicted_pIC50_df[\"canonical_smiles\"][top3_drug.index]\n",
        "\n",
        "mols_EGFR = [Chem.MolFromSmiles(smile) for smile in highest_pIC50]\n",
        "pIC50_EGFR = top3_drug[\"predicted_pIC50\"].tolist()\n",
        "pIC50_values = [(f\"pIC50 value: {value:.2f}\") for value in pIC50_EGFR]\n",
        "\n",
        "Draw.MolsToGridImage(mols_EGFR, molsPerRow=3, subImgSize=(450, 300), legends=pIC50_values)"
      ]
    }
  ],
  "metadata": {
    "kernelspec": {
      "display_name": "Python 3 (ipykernel)",
      "language": "python",
      "name": "python3"
    },
    "language_info": {
      "codemirror_mode": {
        "name": "ipython",
        "version": 3
      },
      "file_extension": ".py",
      "mimetype": "text/x-python",
      "name": "python",
      "nbconvert_exporter": "python",
      "pygments_lexer": "ipython3",
      "version": "3.9.16"
    },
    "toc-autonumbering": true,
    "colab": {
      "provenance": []
    }
  },
  "nbformat": 4,
  "nbformat_minor": 0
}