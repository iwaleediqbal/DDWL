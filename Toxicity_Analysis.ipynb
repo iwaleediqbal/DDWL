{
  "nbformat": 4,
  "nbformat_minor": 0,
  "metadata": {
    "colab": {
      "provenance": []
    },
    "kernelspec": {
      "name": "python3",
      "display_name": "Python 3"
    },
    "language_info": {
      "name": "python"
    }
  },
  "cells": [
    {
      "cell_type": "code",
      "source": [
        "example_smiles_d = {\"Gozetotide\": \"C1=CC(=C(C=C1CCC(=O)NCCCCCC(=O)NCCCC[C@@H](C(=O)O)NC(=O)N[C@@H](CCC(=O)O)C(=O)O)CN(CCN(CC2=C(C=CC(=C2)CCC(=O)O)O)CC(=O)O)CC(=O)O)O\",\n",
        "                    \"Micafungin\": \"CCCCCOC1=CC=C(C=C1)C2=CC(=NO2)C3=CC=C(C=C3)C(=O)N[C@H]4C[C@H]([C@H](NC(=O)[C@@H]5[C@H]([C@H](CN5C(=O)[C@@H](NC(=O)[C@@H](NC(=O)[C@@H]6C[C@H](CN6C(=O)[C@@H](NC4=O)[C@@H](C)O)O)[C@@H]([C@H](C7=CC(=C(C=C7)O)OS(=O)(=O)O)O)O)[C@@H](CC(=O)N)O)C)O)O)O\",\n",
        "                    \"Candicidin\": \"C[C@H]1/C=C/C=C/C=C/C=C\\C=C/C=C/C=C/[C@@H](C[C@@H]([C@@H]([C@H](CC(=O)C[C@H](C[C@H](C[C@H](CC(=O)CCCC(=O)CC(=O)O[C@@H]1[C@@H](C)C[C@H](C)[C@H](CC(=O)C2=CC=C(C=C2)N)O)O)O)O)O)C(=O)O)O)O[C@H]3[C@H]([C@H]([C@@H]([C@H](O3)C)O)N)O\",\n",
        "                    \"Control\": \"C=CC(=O)N1CCC[C@H](C1)N2C3=NC=NC(=C3C(=N2)C4=CC=C(C=C4)OC5=CC=CC=C5)N\",\n",
        "                   }\n",
        "smiles_d = {SMILES_name or \"compound\": SMILES} if SMILES != \"\" else example_smiles_d"
      ],
      "metadata": {
        "id": "YxfgAsYr6JAc"
      },
      "execution_count": null,
      "outputs": []
    },
    {
      "cell_type": "code",
      "source": [
        "!test -d smiles_to_properties || (git clone https://github.com/hgbrian/smiles_to_properties.git && mv smiles_to_properties/* .)"
      ],
      "metadata": {
        "id": "gnL-2-fSlEId"
      },
      "execution_count": null,
      "outputs": []
    },
    {
      "cell_type": "code",
      "execution_count": null,
      "metadata": {
        "id": "Iz8m3xSOKYa7"
      },
      "outputs": [],
      "source": [
        "!pip install rdkit --quiet\n",
        "!pip install mols2grid==1.0.0 --quiet"
      ]
    },
    {
      "cell_type": "code",
      "source": [
        "!pip install chemprop==1.5.2 --quiet"
      ],
      "metadata": {
        "id": "V8qf6zHwxIy1"
      },
      "execution_count": null,
      "outputs": []
    },
    {
      "cell_type": "code",
      "source": [
        "if run_slow_smiles2caption:\n",
        "    !pip install transformers==4.22.1 --quiet\n",
        "    !pip install sentencepiece==0.1.97 --quiet\n",
        "    !pip install t5x==0.0.0 --quiet"
      ],
      "metadata": {
        "id": "CrBaKWsFKiIP"
      },
      "execution_count": null,
      "outputs": []
    },
    {
      "cell_type": "code",
      "source": [
        "from tqdm.auto import tqdm\n",
        "import pandas as pd\n",
        "\n",
        "df_smiles = pd.DataFrame(smiles_d.items(), columns=[\"compound\", \"smiles\"])\n",
        "display(df_smiles)"
      ],
      "metadata": {
        "id": "kVg4mNeEojk6"
      },
      "execution_count": null,
      "outputs": []
    },
    {
      "cell_type": "code",
      "source": [
        "if run_slow_smiles2caption:\n",
        "    from transformers import T5Tokenizer, T5ForConditionalGeneration\n",
        "    tokenizer = T5Tokenizer.from_pretrained(\"laituan245/molt5-large-smiles2caption\", model_max_length=512)\n",
        "    model = T5ForConditionalGeneration.from_pretrained('laituan245/molt5-large-smiles2caption')\n",
        "\n",
        "    for ix, row in tqdm(df_smiles.iterrows(), total=len(df_smiles)):\n",
        "        input_ids = tokenizer(row.smiles, return_tensors=\"pt\").input_ids\n",
        "        outputs = model.generate(input_ids, num_beams=5, max_length=512)\n",
        "        df_smiles.at[ix, \"caption\"] = tokenizer.decode(outputs[0], skip_special_tokens=True)\n",
        "\n",
        "    display(df_smiles)"
      ],
      "metadata": {
        "id": "GQecMIA9k8bs"
      },
      "execution_count": null,
      "outputs": []
    },
    {
      "cell_type": "code",
      "source": [
        "TO_RETRAIN = []\n",
        "\n",
        "moleculenet = {\"BBBP\": (\"https://deepchemdata.s3-us-west-1.amazonaws.com/datasets/BBBP.csv\", \"classification\", (\"p_np\", \"BBB Penetration\")),\n",
        "               \"delaney-processed\": (\"https://deepchemdata.s3-us-west-1.amazonaws.com/datasets/delaney-processed.csv\", \"regression\", (\"ESOL predicted log solubility in mols per litre\", \"Water solubility (log)\")),\n",
        "               \"tox21\": (\"https://deepchemdata.s3-us-west-1.amazonaws.com/datasets/tox21.csv.gz\", \"classification\", (\"\", \"\")),\n",
        "               \"toxcast_data\": (\"https://deepchemdata.s3-us-west-1.amazonaws.com/datasets/toxcast_data.csv.gz\", \"classification\", (\"\", \"\")),\n",
        "               \"SAMPL\": (\"https://deepchemdata.s3-us-west-1.amazonaws.com/datasets/SAMPL.csv\", \"regression\", (\"expt\", \"Hydration free energy\")),\n",
        "               \"Lipophilicity\": (\"https://deepchemdata.s3-us-west-1.amazonaws.com/datasets/Lipophilicity.csv\", \"regression\", (\"exp\", \"Lipophilicity\")),\n",
        "               \"clintox\": (\"https://deepchemdata.s3-us-west-1.amazonaws.com/datasets/clintox.csv.gz\", \"classification\", (\"FDA_APPROVED\", \"FDA Approved\")),\n",
        "               \"sider\": (\"https://deepchemdata.s3-us-west-1.amazonaws.com/datasets/sider.csv.gz\", \"classification\", (\"\",\"\")),\n",
        "               \"muv\": (\"https://deepchemdata.s3-us-west-1.amazonaws.com/datasets/muv.csv.gz\", \"classification\", (\"\", \"\")),\n",
        "               }\n",
        "\n",
        "for dataset in TO_RETRAIN:\n",
        "    url, dataset_type, (target_columns, rename_target_columns) = moleculenet[dataset]\n",
        "\n",
        "    !(test -f {dataset}.csv || wget {url}) && (test -f {dataset}.csv.gz && gunzip {dataset}.csv.gz)\n",
        "\n",
        "    print(f\"training {dataset} {target_columns}\")\n",
        "    arg_target_columns = f'--target_columns \"{target_columns}\"' if target_columns != \"\" else \"\"\n",
        "    !chemprop_train --data_path {dataset}.csv --dataset_type {dataset_type} --save_dir {dataset}_checkpoints --smiles_columns smiles --ignore_columns mol_id {arg_target_columns}"
      ],
      "metadata": {
        "id": "sjnTnnDFdSkF"
      },
      "execution_count": null,
      "outputs": []
    },
    {
      "cell_type": "code",
      "source": [
        "TO_RETEST = []\n",
        "\n",
        "for dataset in TO_RETEST:\n",
        "    url, dataset_type, target_columns = moleculenet[dataset]\n",
        "    print(f\"predicting {dataset} {target_columns}\")\n",
        "    !chemprop_predict --test_path {dataset}.csv --checkpoint_dir {dataset}_checkpoints --smiles_column smiles --preds_path {dataset}_preds"
      ],
      "metadata": {
        "id": "m5uvmYPL1DFl"
      },
      "execution_count": null,
      "outputs": []
    },
    {
      "cell_type": "code",
      "source": [
        "df_smiles.to_csv(\"df_smiles.csv\", index=None)\n",
        "\n",
        "for dataset, (url, dataset_type, target_columns) in moleculenet.items():\n",
        "    if dataset == \"muv\" and not run_muv_tasks: continue\n",
        "    !chemprop_predict --test_path df_smiles.csv --checkpoint_dir {dataset}_checkpoints --smiles_column smiles --preds_path df_{dataset}_preds.csv\n",
        "    !mv df_{dataset}_preds.csv df_smiles.csv\n",
        "\n",
        "df_smiles = pd.read_csv(\"df_smiles.csv\").rename(columns={old:new for old, new in [v[2] for v in moleculenet.values()]})"
      ],
      "metadata": {
        "id": "IPTvXsGO18HM"
      },
      "execution_count": null,
      "outputs": []
    },
    {
      "cell_type": "code",
      "source": [
        "import matplotlib.pyplot as plt\n",
        "import seaborn as sns\n",
        "sns.set_style(\"whitegrid\");\n",
        "\n",
        "df_smiles_melt = df_smiles.melt(id_vars = set(df_smiles.columns) & {\"compound\", \"smiles\", \"caption\", \"logS_warn\"})\n",
        "\n",
        "graphs = {\"Toxicity\": [\"NR-AR\",\"NR-AR-LBD\",\"NR-AhR\",\"NR-Aromatase\",\"NR-ER\",\"NR-ER-LBD\",\"NR-PPAR-gamma\",\"SR-ARE\",\"SR-ATAD5\",\"SR-HSE\",\"SR-MMP\",\"SR-p53\"]}"
      ],
      "metadata": {
        "id": "9DBdxwJe2M69"
      },
      "execution_count": null,
      "outputs": []
    },
    {
      "cell_type": "code",
      "source": [
        "for title, cols in graphs.items():\n",
        "    df_plot = df_smiles_melt.loc[lambda df: df.variable.isin(cols)]\n",
        "    f, ax = plt.subplots(figsize=(6+2*df_plot.variable.nunique(), 2 + 1*df_plot.variable.nunique()));\n",
        "    sns.barplot(data=df_plot, x=\"variable\", y=\"value\", hue=\"compound\");\n",
        "\n",
        "    ax.set_title(title, pad=20);\n",
        "    ax.title.set_fontsize(24 + 1*df_plot.variable.nunique());\n",
        "    ax.tick_params(axis='x', labelsize=16);\n",
        "    ax.tick_params(axis='y', labelsize=18);\n",
        "    ax.set_ylabel('');\n",
        "    ax.set_xlabel('');\n",
        "\n",
        "    ax.legend(loc='upper left', fontsize=14, bbox_to_anchor=(1, 1));\n"
      ],
      "metadata": {
        "id": "meJAeEtYEp8V"
      },
      "execution_count": null,
      "outputs": []
    },
    {
      "cell_type": "code",
      "source": [
        "import matplotlib.pyplot as plt\n",
        "import seaborn as sns\n",
        "\n",
        "for title, cols in graphs.items():\n",
        "    df_plot = df_smiles_melt.loc[lambda df: df.variable.isin(cols)]\n",
        "    f, ax = plt.subplots(figsize=(6 + 2 * df_plot.variable.nunique(), 2 + 1 * df_plot.variable.nunique()))\n",
        "\n",
        "    sns.barplot(data=df_plot, x=\"variable\", y=\"value\", hue=\"compound\", ax=ax)\n",
        "\n",
        "    ax.set_title(title, pad=20)\n",
        "    ax.title.set_fontsize(24 + 1 * df_plot.variable.nunique())\n",
        "    ax.tick_params(axis='x', labelsize=16)\n",
        "    ax.tick_params(axis='y', labelsize=18)\n",
        "    ax.set_ylabel('')\n",
        "    ax.set_xlabel('')\n",
        "\n",
        "    ax.legend(loc='upper left', fontsize=14, bbox_to_anchor=(1, 1))\n",
        "    plt.savefig(f\"{title}.png\", bbox_inches='tight')\n",
        "    plt.close(f)"
      ],
      "metadata": {
        "id": "iQa278uQmEtn"
      },
      "execution_count": null,
      "outputs": []
    },
    {
      "cell_type": "code",
      "source": [
        "import mols2grid\n",
        "\n",
        "mols2grid.display(df_smiles.applymap(lambda x: round(x, 3) if isinstance(x, float) else x),\n",
        "                  smiles_col=\"smiles\",\n",
        "                  tooltip=None,\n",
        "                  tooltip_trigger=\"hover\",\n",
        "                  tooltip_placement=\"right\")"
      ],
      "metadata": {
        "id": "nKxMYwENDL8t"
      },
      "execution_count": null,
      "outputs": []
    },
    {
      "cell_type": "code",
      "source": [
        "import mols2grid\n",
        "import pandas as pd\n",
        "from IPython.display import display, HTML\n",
        "\n",
        "df_display = df_smiles.applymap(lambda x: round(x, 3) if isinstance(x, float) else x)\n",
        "\n",
        "html_output = mols2grid.display(df_display,\n",
        "                                smiles_col=\"smiles\",\n",
        "                                tooltip=None,\n",
        "                                tooltip_trigger=\"hover\",\n",
        "                                tooltip_placement=\"right\")._repr_html_()\n",
        "\n",
        "with open(\"mols2grid_display.html\", \"w\") as file:\n",
        "    file.write(html_output)\n",
        "display(HTML(html_output))"
      ],
      "metadata": {
        "id": "FWLT5Xm-qKF-"
      },
      "execution_count": null,
      "outputs": []
    },
    {
      "cell_type": "code",
      "source": [
        "if download_results:\n",
        "    from google.colab import files\n",
        "    df_smiles.applymap(lambda x: round(x, 4) if isinstance(x, float) else x).to_csv(\"df_smiles.tsv\", index=None, sep='\\t')\n",
        "    files.download('df_smiles.tsv')"
      ],
      "metadata": {
        "id": "t8AhDRIKplz_"
      },
      "execution_count": null,
      "outputs": []
    }
  ]
}