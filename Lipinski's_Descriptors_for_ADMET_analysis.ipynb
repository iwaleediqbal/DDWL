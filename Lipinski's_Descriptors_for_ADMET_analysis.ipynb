{
  "nbformat": 4,
  "nbformat_minor": 0,
  "metadata": {
    "colab": {
      "provenance": []
    },
    "kernelspec": {
      "name": "python3",
      "display_name": "Python 3"
    },
    "language_info": {
      "name": "python"
    }
  },
  "cells": [
    {
      "cell_type": "code",
      "source": [
        "! pip install rdkit-pypi"
      ],
      "metadata": {
        "id": "xmZubgoC-Lsa"
      },
      "execution_count": null,
      "outputs": []
    },
    {
      "cell_type": "code",
      "source": [
        "from pathlib import Path\n",
        "import math\n",
        "\n",
        "import numpy as np\n",
        "import pandas as pd\n",
        "import matplotlib.pyplot as plt\n",
        "from matplotlib.lines import Line2D\n",
        "import matplotlib.patches as mpatches\n",
        "from rdkit import Chem\n",
        "from rdkit.Chem import Descriptors, Lipinski, Draw, PandasTools"
      ],
      "metadata": {
        "id": "OMF83jK1-NPC"
      },
      "execution_count": null,
      "outputs": []
    },
    {
      "cell_type": "code",
      "source": [
        "molecules = pd.read_csv(\"/content/output_file_first_step.csv\", index_col=0)\n",
        "print(molecules.shape)\n",
        "molecules.head()"
      ],
      "metadata": {
        "id": "Lo8UqdGRR7Hv"
      },
      "execution_count": null,
      "outputs": []
    },
    {
      "cell_type": "code",
      "source": [
        "def lipinski(smiles, verbose=False):\n",
        "    moldata= []\n",
        "    for elem in smiles:\n",
        "        mol=Chem.MolFromSmiles(elem)\n",
        "        moldata.append(mol)\n",
        "\n",
        "    baseData= np.arange(1,1)\n",
        "    i=0\n",
        "    for mol in moldata:\n",
        "        desc_MolWt = Descriptors.MolWt(mol)\n",
        "        desc_MolLogP = Descriptors.MolLogP(mol)\n",
        "        desc_NumHDonors = Lipinski.NumHDonors(mol)\n",
        "        desc_NumHAcceptors = Lipinski.NumHAcceptors(mol)\n",
        "\n",
        "        row = np.array([desc_MolWt,\n",
        "                        desc_MolLogP,\n",
        "                        desc_NumHDonors,\n",
        "                        desc_NumHAcceptors])\n",
        "\n",
        "        if(i==0):\n",
        "            baseData=row\n",
        "        else:\n",
        "            baseData=np.vstack([baseData, row])\n",
        "        i=i+1\n",
        "\n",
        "    columnNames=[\"molecular_weight\",\"logp\",\"n_hbd\",\"n_hba\"]\n",
        "    descriptors = pd.DataFrame(data=baseData,columns=columnNames)\n",
        "\n",
        "    return descriptors\n",
        "def lipinski_pass(row):\n",
        "    return row['molecular_weight'] <= 500 and \\\n",
        "           row['logp'] <= 5 and \\\n",
        "           row['n_hbd'] <= 5 and \\\n",
        "           row['n_hba'] <= 10\n",
        "ro5_properties = lipinski(molecules.smiles)\n",
        "ro5_properties['passes_ro5'] = ro5_properties.apply(lipinski_pass, axis=1)"
      ],
      "metadata": {
        "id": "lPH3oRyy-g4y"
      },
      "execution_count": null,
      "outputs": []
    },
    {
      "cell_type": "code",
      "source": [
        "ro5_properties"
      ],
      "metadata": {
        "id": "XzLRhKaMSBgX"
      },
      "execution_count": null,
      "outputs": []
    },
    {
      "cell_type": "code",
      "source": [
        "molecules"
      ],
      "metadata": {
        "id": "UjtmDWRz-ulK"
      },
      "execution_count": null,
      "outputs": []
    },
    {
      "cell_type": "code",
      "source": [
        "molecules = pd.concat([molecules, ro5_properties], axis=1)\n",
        "molecules"
      ],
      "metadata": {
        "id": "0RfJikj1SS62"
      },
      "execution_count": null,
      "outputs": []
    },
    {
      "cell_type": "code",
      "source": [
        "molecules = molecules[molecules['passes_ro5']]\n",
        "molecules"
      ],
      "metadata": {
        "id": "BUa3McznKTW9"
      },
      "execution_count": null,
      "outputs": []
    },
    {
      "cell_type": "code",
      "source": [
        "molecules = molecules[molecules['class'] != 'intermediate']\n",
        "molecules"
      ],
      "metadata": {
        "id": "LpBV00cpScVP"
      },
      "execution_count": null,
      "outputs": []
    },
    {
      "cell_type": "code",
      "source": [
        "molecules.to_csv('/content/sample_data/ro5_properties_filtered.csv')\n",
        "molecules.head(10)"
      ],
      "metadata": {
        "id": "SKjt5HAp-_u6"
      },
      "execution_count": null,
      "outputs": []
    },
    {
      "cell_type": "code",
      "source": [
        "def calculate_mean_std(dataframe):\n",
        "    stats = dataframe.describe()\n",
        "    stats = stats.T\n",
        "    stats = stats[[\"mean\", \"std\"]]\n",
        "    return stats"
      ],
      "metadata": {
        "id": "T3-3pvIm_XOT"
      },
      "execution_count": null,
      "outputs": []
    },
    {
      "cell_type": "code",
      "source": [
        "molecules_stats = calculate_mean_std(\n",
        "    molecules[[\"molecular_weight\", \"n_hba\", \"n_hbd\", \"logp\"]]\n",
        ")\n",
        "molecules_stats"
      ],
      "metadata": {
        "id": "BrauTGfCAFAK"
      },
      "execution_count": null,
      "outputs": []
    },
    {
      "cell_type": "code",
      "source": [
        "def _scale_by_thresholds(stats, thresholds, scaled_threshold):\n",
        "    for property_name in stats.index:\n",
        "        if property_name not in thresholds.keys():\n",
        "            raise KeyError(f\"Add property '{property_name}' to scaling variable.\")\n",
        "    stats_scaled = stats.apply(lambda x: x / thresholds[x.name] * scaled_threshold, axis=1)\n",
        "    return stats_scaled"
      ],
      "metadata": {
        "id": "vmeW9nhQAUb8"
      },
      "execution_count": null,
      "outputs": []
    },
    {
      "cell_type": "code",
      "source": [
        "def _define_radial_axes_angles(n_axes):\n",
        "    x_angles = [i / float(n_axes) * 2 * math.pi for i in range(n_axes)]\n",
        "    x_angles += x_angles[:1]\n",
        "    return x_angles"
      ],
      "metadata": {
        "id": "5iddQRWOAkia"
      },
      "execution_count": null,
      "outputs": []
    },
    {
      "cell_type": "code",
      "source": [
        "def plot_radar(\n",
        "    y,\n",
        "    thresholds,\n",
        "    scaled_threshold,\n",
        "    properties_labels,\n",
        "    y_max=None,\n",
        "    output_path=None,\n",
        "):\n",
        "\n",
        "    x = _define_radial_axes_angles(len(y))\n",
        "    y = _scale_by_thresholds(y, thresholds, scaled_threshold)\n",
        "    y = pd.concat([y, y.head(1)])\n",
        "\n",
        "\n",
        "    plt.figure(figsize=(6, 6))\n",
        "    ax = plt.subplot(111, polar=True)\n",
        "\n",
        "\n",
        "    ax.fill(x, [scaled_threshold] * len(x), \"cornflowerblue\", alpha=0.2)\n",
        "    ax.plot(x, y[\"mean\"], \"b\", lw=3, ls=\"-\")\n",
        "    ax.plot(x, y[\"mean\"] + y[\"std\"], \"orange\", lw=2, ls=\"--\")\n",
        "    ax.plot(x, y[\"mean\"] - y[\"std\"], \"orange\", lw=2, ls=\"-.\")\n",
        "\n",
        "\n",
        "    ax.set_theta_offset(math.pi / 2)\n",
        "    ax.set_theta_direction(-1)\n",
        "\n",
        "    ax.set_rlabel_position(180)\n",
        "    plt.xticks(x, [])\n",
        "    if not y_max:\n",
        "        y_max = int(ax.get_yticks()[-1])\n",
        "    plt.ylim(0, y_max)\n",
        "    plt.yticks(\n",
        "        range(1, y_max),\n",
        "        [\"5\" if i == scaled_threshold else \"\" for i in range(1, y_max)],\n",
        "        fontsize=16,\n",
        "    )\n",
        "    for i, (angle, label) in enumerate(zip(x[:-1], properties_labels)):\n",
        "        if angle == 0:\n",
        "            ha = \"center\"\n",
        "        elif 0 < angle < math.pi:\n",
        "            ha = \"left\"\n",
        "        elif angle == math.pi:\n",
        "            ha = \"center\"\n",
        "        else:\n",
        "            ha = \"right\"\n",
        "        ax.text(\n",
        "            x=angle,\n",
        "            y=y_max + 1,\n",
        "            s=label,\n",
        "            size=16,\n",
        "            horizontalalignment=ha,\n",
        "            verticalalignment=\"center\",\n",
        "        )\n",
        "    labels = (\"mean\", \"mean + std\", \"mean - std\", \"rule of five area\")\n",
        "    ax.legend(labels, loc=(1.1, 0.7), labelspacing=0.3, fontsize=16)\n",
        "    plt.savefig('radar.png', dpi=600, bbox_inches=\"tight\", transparent=True)\n",
        "    plt.show()"
      ],
      "metadata": {
        "id": "RuMGZV6rA0Ai"
      },
      "execution_count": null,
      "outputs": []
    },
    {
      "cell_type": "code",
      "source": [
        "thresholds = {\"molecular_weight\": 500, \"n_hba\": 10, \"n_hbd\": 5, \"logp\": 5}\n",
        "scaled_threshold = 5\n",
        "properties_labels = [\n",
        "    \"Molecular weight (Da) / 100\",\n",
        "    \"# HBA / 2\",\n",
        "    \"# HBD\",\n",
        "    \"LogP\",\n",
        "]\n",
        "y_max = 8"
      ],
      "metadata": {
        "id": "E8b0hJEjBJpa"
      },
      "execution_count": null,
      "outputs": []
    },
    {
      "cell_type": "code",
      "source": [
        "plot_radar(\n",
        "    molecules_stats,\n",
        "    thresholds,\n",
        "    scaled_threshold,\n",
        "    properties_labels,\n",
        "    y_max,\n",
        ")"
      ],
      "metadata": {
        "id": "rVqVgRMcA-Oj"
      },
      "execution_count": null,
      "outputs": []
    },
    {
      "cell_type": "code",
      "source": [
        "import seaborn as sns\n",
        "sns.set(style='ticks')\n",
        "import matplotlib.pyplot as plt"
      ],
      "metadata": {
        "id": "HpM7UDinDDY5"
      },
      "execution_count": null,
      "outputs": []
    },
    {
      "cell_type": "code",
      "source": [
        "plt.figure(figsize=(5.5, 5.5))\n",
        "\n",
        "sns.countplot(x='class', data=molecules, edgecolor='black')\n",
        "\n",
        "plt.xlabel('Bioactivity class', fontsize=14, fontweight='bold')\n",
        "plt.ylabel('Frequency', fontsize=14, fontweight='bold')\n",
        "\n",
        "plt.savefig('plot_bioactivity_class.png', dpi=600, bbox_inches='tight')"
      ],
      "metadata": {
        "id": "IuyyM-1iDMiD"
      },
      "execution_count": null,
      "outputs": []
    },
    {
      "cell_type": "code",
      "source": [
        "import matplotlib.pyplot as plt\n",
        "import seaborn as sns\n",
        "\n",
        "sns.set_style(\"white\")\n",
        "\n",
        "custom_palette = sns.color_palette(\"Set2\")\n",
        "\n",
        "plt.figure(figsize=(7, 7))\n",
        "\n",
        "sns.scatterplot(\n",
        "    x='molecular_weight',\n",
        "    y='logp',\n",
        "    data=molecules,\n",
        "    hue='class',\n",
        "    size='pIC50',\n",
        "    sizes=(20, 200),\n",
        "    palette=custom_palette,\n",
        "    edgecolor='black',\n",
        "    alpha=0.7\n",
        ")\n",
        "\n",
        "plt.xlabel('Molecular Weight (MW)', fontsize=14, fontweight='bold')\n",
        "plt.ylabel('LogP', fontsize=14, fontweight='bold')\n",
        "\n",
        "plt.grid(False)\n",
        "plt.legend(bbox_to_anchor=(1.05, 1), loc=2, borderaxespad=0, title='Legend')\n",
        "sns.despine()\n",
        "plt.savefig('plot_MW_vs_LogP.png', dpi=600, bbox_inches='tight')\n",
        "plt.show()\n"
      ],
      "metadata": {
        "id": "sTOXjgHMmyz_"
      },
      "execution_count": null,
      "outputs": []
    },
    {
      "cell_type": "code",
      "source": [
        "plt.figure(figsize=(5.5, 5.5))\n",
        "\n",
        "sns.boxplot(x = 'class', y = 'molecular_weight', data = molecules)\n",
        "\n",
        "plt.xlabel('Bioactivity class', fontsize=14, fontweight='bold')\n",
        "plt.ylabel('MW', fontsize=14, fontweight='bold')\n",
        "\n",
        "plt.savefig('plot_MW.png', dpi=600, bbox_inches='tight')"
      ],
      "metadata": {
        "id": "2iU3oTDoGEcE"
      },
      "execution_count": null,
      "outputs": []
    },
    {
      "cell_type": "code",
      "source": [
        "plt.figure(figsize=(5.5, 5.5))\n",
        "\n",
        "sns.boxplot(x = 'class', y = 'logp', data = molecules)\n",
        "\n",
        "plt.xlabel('Bioactivity class', fontsize=14, fontweight='bold')\n",
        "plt.ylabel('LogP', fontsize=14, fontweight='bold')\n",
        "\n",
        "plt.savefig('plot_LogP.png', dpi=600, bbox_inches='tight')"
      ],
      "metadata": {
        "id": "AwGFUtN5G_Nj"
      },
      "execution_count": null,
      "outputs": []
    },
    {
      "cell_type": "code",
      "source": [
        "plt.figure(figsize=(5.5, 5.5))\n",
        "\n",
        "sns.boxplot(x = 'class', y = 'n_hbd', data = molecules)\n",
        "\n",
        "plt.xlabel('Bioactivity class', fontsize=14, fontweight='bold')\n",
        "plt.ylabel('NumHDonors', fontsize=14, fontweight='bold')\n",
        "\n",
        "plt.savefig('plot_NumHDonors.png', dpi=600, bbox_inches='tight')"
      ],
      "metadata": {
        "id": "w6NedTvsHXmh"
      },
      "execution_count": null,
      "outputs": []
    },
    {
      "cell_type": "code",
      "source": [
        "plt.figure(figsize=(5.5, 5.5))\n",
        "\n",
        "sns.boxplot(x = 'class', y = 'n_hba', data = molecules)\n",
        "\n",
        "plt.xlabel('Bioactivity class', fontsize=14, fontweight='bold')\n",
        "plt.ylabel('NumHAcceptors', fontsize=14, fontweight='bold')\n",
        "\n",
        "plt.savefig('plot_NumHAcceptors.png', dpi=600, bbox_inches='tight')"
      ],
      "metadata": {
        "id": "KJp9VhTbHoVc"
      },
      "execution_count": null,
      "outputs": []
    },
    {
      "cell_type": "code",
      "source": [
        "! zip -r results.zip . -i *.csv *.pdf"
      ],
      "metadata": {
        "id": "BE_aOcZpH49j"
      },
      "execution_count": null,
      "outputs": []
    }
  ]
}